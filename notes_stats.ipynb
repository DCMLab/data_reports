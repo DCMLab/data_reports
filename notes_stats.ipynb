{
 "cells": [
  {
   "cell_type": "code",
   "execution_count": null,
   "metadata": {
    "pycharm": {
     "name": "#%%\n"
    }
   },
   "outputs": [],
   "source": [
    "%load_ext autoreload\n",
    "%autoreload 2\n",
    "import os\n",
    "from dimcat import (\n",
    "    Corpus,  \n",
    "    Pipeline,\n",
    "    IsAnnotatedFilter,\n",
    "    CorpusGrouper, \n",
    "    PieceGrouper, \n",
    "    ModeGrouper, \n",
    "    ChordFeatureSlicer,\n",
    "    ChordSymbolBigrams, \n",
    "    ChordSymbolUnigrams,\n",
    "    LocalKeySlicer,\n",
    ")\n",
    "from dimcat import __version__ as dimcat_version\n",
    "from ms3 import __version__ as ms3_version\n",
    "from git import Repo\n",
    "import plotly.express as px\n",
    "import plotly.graph_objects as go\n",
    "from plotly.subplots import make_subplots\n",
    "import pandas as pd\n",
    "pd.set_option(\"display.max_columns\", 100)"
   ]
  },
  {
   "cell_type": "code",
   "execution_count": null,
   "metadata": {},
   "outputs": [],
   "source": [
    "corpus_path = \"~/romantic_piano_corpus\"\n",
    "\n",
    "repo = Repo(corpus_path)\n",
    "print(f\"{os.path.basename(corpus_path)} @ {repo.commit().hexsha[:7]}\")\n",
    "print(f\"dimcat version {dimcat_version}\")\n",
    "print(f\"ms3 version {ms3_version}\")"
   ]
  },
  {
   "cell_type": "code",
   "execution_count": null,
   "metadata": {},
   "outputs": [],
   "source": [
    "STD_LAYOUT = {\n",
    " 'paper_bgcolor': '#FFFFFF',\n",
    " 'plot_bgcolor': '#FFFFFF',\n",
    " 'margin': {'l': 40, 'r': 0, 'b': 0, 't': 40, 'pad': 0},\n",
    " 'font': {'size': 15}\n",
    "}\n",
    "OUTPUT_DIR = \"/home/hentsche/Documents/phd/romantic_piano_corpus_report/figures/\""
   ]
  },
  {
   "cell_type": "markdown",
   "metadata": {},
   "source": [
    "# Overview"
   ]
  },
  {
   "cell_type": "code",
   "execution_count": null,
   "metadata": {
    "pycharm": {
     "name": "#%%\n"
    }
   },
   "outputs": [],
   "source": [
    "corpus = Corpus(directory=corpus_path)\n",
    "corpus.data"
   ]
  },
  {
   "cell_type": "code",
   "execution_count": null,
   "metadata": {},
   "outputs": [],
   "source": [
    "annotated = IsAnnotatedFilter().process_data(corpus)\n",
    "print(f\"Before: {len(corpus.indices[()])} IDs, after filtering: {len(annotated.indices[()])}\")"
   ]
  },
  {
   "cell_type": "markdown",
   "metadata": {},
   "source": [
    "**Choose here if you want to see stats for all or only for annotated scores.**"
   ]
  },
  {
   "cell_type": "code",
   "execution_count": null,
   "metadata": {},
   "outputs": [],
   "source": [
    "#selected = corpus\n",
    "selected = annotated"
   ]
  },
  {
   "cell_type": "markdown",
   "metadata": {},
   "source": [
    "## Notes"
   ]
  },
  {
   "cell_type": "code",
   "execution_count": null,
   "metadata": {},
   "outputs": [],
   "source": [
    "all_notes = selected.get_facet('notes')\n",
    "print(f\"{len(all_notes.index)} notes over {len(all_notes.groupby(level=[0,1]))} files.\")\n",
    "all_notes.head()"
   ]
  },
  {
   "cell_type": "code",
   "execution_count": null,
   "metadata": {},
   "outputs": [],
   "source": [
    "def weight_notes(nl, group_col='midi', precise=True):\n",
    "    summed_durations = nl.groupby(group_col).duration_qb.sum()\n",
    "    summed_durations /= summed_durations.min() # normalize such that the shortest duration results in 1 occurrence\n",
    "    if not precise:\n",
    "        # This simple trick reduces compute time but also precision:\n",
    "        # The rationale is to have the smallest value be slightly larger than 0.5 because\n",
    "        # if it was exactly 0.5 it would be rounded down by repeat_notes_according_to_weights()\n",
    "        summed_durations /= 1.9999999\n",
    "    return repeat_notes_according_to_weights(summed_durations)\n",
    "    \n",
    "def repeat_notes_according_to_weights(weights):\n",
    "    counts = weights.round().astype(int)\n",
    "    counts_reflecting_weights = []\n",
    "    for pitch, count in counts.iteritems():\n",
    "        counts_reflecting_weights.extend([pitch]*count)\n",
    "    return pd.Series(counts_reflecting_weights)\n",
    "\n",
    "grouped_notes = all_notes.groupby(level=0)\n",
    "weighted_midi = pd.concat([weight_notes(nl, 'midi', precise=False) for _, nl in grouped_notes], axis=1, keys=grouped_notes.groups.keys())\n",
    "weighted_midi"
   ]
  },
  {
   "cell_type": "code",
   "execution_count": null,
   "metadata": {},
   "outputs": [],
   "source": [
    "yaxis=dict(tickmode= 'array',\n",
    "           tickvals= [12, 24, 36, 48, 60, 72, 84, 96],\n",
    "           ticktext = [\"C0\", \"C1\", \"C2\", \"C3\", \"C4\", \"C5\", \"C6\", \"C7\"],\n",
    "           gridcolor='lightgrey',\n",
    "           )\n",
    "fig = px.violin(weighted_midi, labels=dict(variable='', value='pitch'), box=True, height=500) #, title=\"Distribution of pitches per corpus\"\n",
    "fig.update_layout(yaxis=yaxis, **STD_LAYOUT)\n",
    "fig.write_image(os.path.join(OUTPUT_DIR, \"ambitus_per_corpus.png\"), scale=2)\n",
    "fig.show()"
   ]
  },
  {
   "cell_type": "code",
   "execution_count": null,
   "metadata": {},
   "outputs": [],
   "source": [
    "weighted_tpc = pd.concat([weight_notes(nl, 'tpc') for _, nl in grouped_notes], axis=1, keys=grouped_notes.groups.keys())\n",
    "weighted_tpc"
   ]
  },
  {
   "cell_type": "code",
   "execution_count": null,
   "metadata": {},
   "outputs": [],
   "source": [
    "yaxis=dict(\n",
    "    tickmode= 'array',\n",
    "    tickvals= [-12, -9, -6, -3, 0, 3, 6, 9, 12, 15, 18],\n",
    "    ticktext = [\"Dbb\", \"Bbb\", \"Gb\", \"Eb\", \"C\", \"A\", \"F#\", \"D#\", \"B#\", \"G##\", \"E##\"],\n",
    "    gridcolor='lightgrey',\n",
    "    zerolinecolor='lightgrey',\n",
    "    zeroline=True\n",
    "           )\n",
    "fig = px.violin(weighted_tpc, labels=dict(variable='', value='pitch class'), box=True, height=500)\n",
    "fig.update_layout(yaxis=yaxis, **STD_LAYOUT)\n",
    "fig.write_image(os.path.join(OUTPUT_DIR, \"tpc_per_corpus.png\"), scale=2)\n",
    "fig.show()"
   ]
  },
  {
   "cell_type": "code",
   "execution_count": null,
   "metadata": {},
   "outputs": [],
   "source": [
    "# adapted from https://plotly.com/python/violin/#ridgeline-plot\n",
    "fig = go.Figure()\n",
    "for corpus, data_line in weighted_tpc.iteritems():\n",
    "    fig.add_trace(go.Violin(x=data_line, name=corpus))\n",
    "\n",
    "fig.update_traces(side='positive', orientation='h', width=2, points=False)\n",
    "fig.update_layout(xaxis_showgrid=False, xaxis_zeroline=True, height=600)\n",
    "fig.show()"
   ]
  },
  {
   "cell_type": "code",
   "execution_count": null,
   "metadata": {},
   "outputs": [],
   "source": [
    "fig = make_subplots(rows=len(grouped_notes), cols=1, subplot_titles=list(grouped_notes.groups.keys()), shared_xaxes=True)\n",
    "for i, (corpus, notes) in enumerate(grouped_notes, 1):\n",
    "    tpc_durations = notes.groupby('tpc').duration_qb.sum()\n",
    "    tpc_durations /= tpc_durations.sum()\n",
    "    fig.add_trace(go.Scatter(x=tpc_durations.index, y=tpc_durations, name=corpus, mode='lines+markers'), row=i, col=1)\n",
    "\n",
    "#fig.update_traces(side='positive', orientation='h', width=2, points=False)\n",
    "fig.update_layout(**STD_LAYOUT, showlegend=False, height=800, width=300)\n",
    "fig.update_xaxes(gridcolor='lightgrey', zerolinecolor='lightgrey', tickmode='array', tickvals= [-12, -6, 0, 6, 12, 18],\n",
    "    ticktext = [\"Dbb\", \"Gb\", \"C\", \"F#\", \"B#\", \"E##\"],)\n",
    "fig.update_yaxes(showgrid=False, zeroline=False)\n",
    "fig.write_image(os.path.join(OUTPUT_DIR, \"tpc_line_per_corpus.png\", scale=2)\n",
    "fig.show()"
   ]
  },
  {
   "cell_type": "markdown",
   "metadata": {},
   "source": [
    "### Notes and staves"
   ]
  },
  {
   "cell_type": "code",
   "execution_count": null,
   "metadata": {},
   "outputs": [],
   "source": [
    "print(\"Distribution of notes over staves:\")\n",
    "all_notes.staff.value_counts()"
   ]
  },
  {
   "cell_type": "code",
   "execution_count": null,
   "metadata": {},
   "outputs": [],
   "source": [
    "print(\"Distribution of notes over staves for all pieces with more than two staves\\n\")\n",
    "for group, df in all_notes.groupby(level=[0,1]):\n",
    "    if (df.staff > 2).any():\n",
    "        print(group)\n",
    "        print(df.staff.value_counts().to_dict())"
   ]
  },
  {
   "cell_type": "code",
   "execution_count": null,
   "metadata": {},
   "outputs": [],
   "source": [
    "all_notes[all_notes.staff > 2].groupby(level=[0,1]).staff.value_counts()"
   ]
  }
 ],
 "metadata": {
  "kernelspec": {
   "display_name": "dimcat",
   "language": "python",
   "name": "dimcat"
  },
  "language_info": {
   "codemirror_mode": {
    "name": "ipython",
    "version": 3
   },
   "file_extension": ".py",
   "mimetype": "text/x-python",
   "name": "python",
   "nbconvert_exporter": "python",
   "pygments_lexer": "ipython3",
   "version": "3.10.4"
  }
 },
 "nbformat": 4,
 "nbformat_minor": 4
}
