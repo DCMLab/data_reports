{
 "cells": [
  {
   "cell_type": "code",
   "execution_count": null,
   "metadata": {
    "pycharm": {
     "name": "#%%\n"
    }
   },
   "outputs": [],
   "source": [
    "%load_ext autoreload\n",
    "%autoreload 2\n",
    "import os\n",
    "from dimcat import (\n",
    "    Corpus,  \n",
    "    Pipeline,\n",
    "    IsAnnotatedFilter,\n",
    "    CorpusGrouper, \n",
    "    PieceGrouper, \n",
    "    ModeGrouper, \n",
    "    ChordFeatureSlicer,\n",
    "    ChordSymbolBigrams, \n",
    "    ChordSymbolUnigrams,\n",
    "    LocalKeySlicer,\n",
    ")\n",
    "from dimcat import __version__ as dimcat_version\n",
    "from ms3 import __version__ as ms3_version\n",
    "from ms3 import fifths2name\n",
    "from git import Repo\n",
    "import plotly.express as px\n",
    "import plotly.graph_objects as go\n",
    "import colorlover\n",
    "from plotly.subplots import make_subplots\n",
    "import pandas as pd\n",
    "pd.set_option(\"display.max_columns\", 100)"
   ]
  },
  {
   "cell_type": "code",
   "execution_count": null,
   "metadata": {},
   "outputs": [],
   "source": [
    "corpus_path = \"~/romantic_piano_corpus\"\n",
    "\n",
    "repo = Repo(corpus_path)\n",
    "print(f\"{os.path.basename(corpus_path)} @ {repo.commit().hexsha[:7]}\")\n",
    "print(f\"dimcat version {dimcat_version}\")\n",
    "print(f\"ms3 version {ms3_version}\")"
   ]
  },
  {
   "cell_type": "code",
   "execution_count": null,
   "metadata": {},
   "outputs": [],
   "source": [
    "STD_LAYOUT = {\n",
    " 'paper_bgcolor': '#FFFFFF',\n",
    " 'plot_bgcolor': '#FFFFFF',\n",
    " 'margin': {'l': 40, 'r': 0, 'b': 0, 't': 40, 'pad': 0},\n",
    " 'font': {'size': 15}\n",
    "}\n",
    "OUTPUT_DIR = \"/home/hentsche/Documents/phd/romantic_piano_corpus_report/figures/\"\n",
    "corpus_color_scale = px.colors.qualitative.D3"
   ]
  },
  {
   "cell_type": "markdown",
   "metadata": {},
   "source": [
    "# Overview"
   ]
  },
  {
   "cell_type": "code",
   "execution_count": null,
   "metadata": {
    "pycharm": {
     "name": "#%%\n"
    }
   },
   "outputs": [],
   "source": [
    "corpus = Corpus(directory=corpus_path)\n",
    "corpus.data"
   ]
  },
  {
   "cell_type": "code",
   "execution_count": null,
   "metadata": {},
   "outputs": [],
   "source": [
    "all_metadata = corpus.data.metadata(from_tsv=True).set_index('fnames', append=True)\n",
    "print(f\"Concatenated 'metadata.tsv' files cover {len(all_metadata)} of the {len(corpus.data._score_ids())} scores.\")\n",
    "all_metadata.groupby(level=0).nth(0)"
   ]
  },
  {
   "cell_type": "code",
   "execution_count": null,
   "metadata": {},
   "outputs": [],
   "source": [
    "annotated = IsAnnotatedFilter().process_data(corpus)\n",
    "print(f\"Before: {len(corpus.indices[()])} IDs, after filtering: {len(annotated.indices[()])}\")"
   ]
  },
  {
   "cell_type": "markdown",
   "metadata": {},
   "source": [
    "**Choose here if you want to see stats for all or only for annotated scores.**"
   ]
  },
  {
   "cell_type": "code",
   "execution_count": null,
   "metadata": {},
   "outputs": [],
   "source": [
    "#selected = corpus\n",
    "selected = annotated"
   ]
  },
  {
   "cell_type": "markdown",
   "metadata": {},
   "source": [
    "**Compute chronological order**"
   ]
  },
  {
   "cell_type": "code",
   "execution_count": null,
   "metadata": {},
   "outputs": [],
   "source": [
    "all_metadata = corpus.data.metadata(from_tsv=True)\n",
    "summary = all_metadata[all_metadata.label_count > 0]\n",
    "print(f\"Selected metadata rows cover {len(summary)} of the {len(sum((ixs for _, ixs in selected.iter_groups()), start=[]))} scores.\")\n",
    "mean_composition_years = summary.groupby(level=0).composed_end.mean().astype(int).sort_values()\n",
    "chronological_order = mean_composition_years.index.to_list()\n",
    "corpus_colors = dict(zip(chronological_order, corpus_color_scale))\n",
    "chronological_order"
   ]
  },
  {
   "cell_type": "markdown",
   "metadata": {},
   "source": [
    "## Notes"
   ]
  },
  {
   "cell_type": "code",
   "execution_count": null,
   "metadata": {},
   "outputs": [],
   "source": [
    "all_notes = selected.get_facet('notes')\n",
    "print(f\"{len(all_notes.index)} notes over {len(all_notes.groupby(level=[0,1]))} files.\")\n",
    "all_notes.head()"
   ]
  },
  {
   "cell_type": "code",
   "execution_count": null,
   "metadata": {},
   "outputs": [],
   "source": [
    "def weight_notes(nl, group_col='midi', precise=True):\n",
    "    summed_durations = nl.groupby(group_col).duration_qb.sum()\n",
    "    summed_durations /= summed_durations.min() # normalize such that the shortest duration results in 1 occurrence\n",
    "    if not precise:\n",
    "        # This simple trick reduces compute time but also precision:\n",
    "        # The rationale is to have the smallest value be slightly larger than 0.5 because\n",
    "        # if it was exactly 0.5 it would be rounded down by repeat_notes_according_to_weights()\n",
    "        summed_durations /= 1.9999999\n",
    "    return repeat_notes_according_to_weights(summed_durations)\n",
    "    \n",
    "def repeat_notes_according_to_weights(weights):\n",
    "    counts = weights.round().astype(int)\n",
    "    counts_reflecting_weights = []\n",
    "    for pitch, count in counts.iteritems():\n",
    "        counts_reflecting_weights.extend([pitch]*count)\n",
    "    return pd.Series(counts_reflecting_weights)\n"
   ]
  },
  {
   "cell_type": "raw",
   "metadata": {},
   "source": [
    "grouped_notes = all_notes.groupby(level=0)\n",
    "weighted_midi = pd.concat([weight_notes(nl, 'midi', precise=False) for _, nl in grouped_notes], axis=1, keys=grouped_notes.groups.keys())\n",
    "\n",
    "yaxis=dict(tickmode= 'array',\n",
    "           tickvals= [12, 24, 36, 48, 60, 72, 84, 96],\n",
    "           ticktext = [\"C0\", \"C1\", \"C2\", \"C3\", \"C4\", \"C5\", \"C6\", \"C7\"],\n",
    "           gridcolor='lightgrey',\n",
    "           )\n",
    "fig = px.violin(weighted_midi, labels=dict(variable='', value='pitch'), box=True, height=500,\n",
    "               category_orders=chronological_order,\n",
    "               ) #, title=\"Distribution of pitches per corpus\"\n",
    "fig.update_layout(yaxis=yaxis, **STD_LAYOUT)\n",
    "fig.write_image(os.path.join(OUTPUT_DIR, \"ambitus_per_corpus.png\"), scale=2)\n",
    "fig.show()"
   ]
  },
  {
   "cell_type": "code",
   "execution_count": null,
   "metadata": {},
   "outputs": [],
   "source": [
    "corpus_names = dict(\n",
    "    beethoven_piano_sonatas='Beethoven Sonatas',\n",
    "    chopin_mazurkas='Chopin Mazurkas',\n",
    "    debussy_suite_bergamasque='Debussy Suite',\n",
    "    dvorak_silhouettes=\"Dvořák Silhouettes\",\n",
    "    grieg_lyrical_pieces=\"Grieg Lyrical Pieces\",\n",
    "    liszt_pelerinage=\"Liszt Années\",\n",
    "    medtner_tales=\"Medtner Tales\",\n",
    "    schumann_kinderszenen=\"Schumann Kinderszenen\",\n",
    "    tchaikovsky_seasons=\"Tchaikovsky Seasons\"\n",
    ")\n",
    "corpus_name_colors = {corpus_names[corp]: color for corp, color in corpus_colors.items()}\n",
    "chronological_corpus_names = [corpus_names[corp] for corp in chronological_order]\n",
    "all_notes['corpus_name'] = all_notes.index.get_level_values(0).map(corpus_names)"
   ]
  },
  {
   "cell_type": "code",
   "execution_count": null,
   "metadata": {},
   "outputs": [],
   "source": [
    "grouped_notes = all_notes.groupby('corpus_name')\n",
    "weighted_midi = pd.concat([weight_notes(nl, 'midi', precise=False) for _, nl in grouped_notes], keys=grouped_notes.groups.keys()).reset_index(level=0)\n",
    "weighted_midi.columns = ['corpus', 'midi']\n",
    "weighted_midi"
   ]
  },
  {
   "cell_type": "code",
   "execution_count": null,
   "metadata": {},
   "outputs": [],
   "source": [
    "yaxis=dict(tickmode= 'array',\n",
    "           tickvals= [12, 24, 36, 48, 60, 72, 84, 96],\n",
    "           ticktext = [\"C0\", \"C1\", \"C2\", \"C3\", \"C4\", \"C5\", \"C6\", \"C7\"],\n",
    "           gridcolor='lightgrey',\n",
    "           )\n",
    "fig = px.violin(weighted_midi, x='corpus', y='midi', color='corpus', box=True,\n",
    "                labels=dict(\n",
    "                    corpus='',\n",
    "                    midi='distribution of pitches by duration'\n",
    "                ),\n",
    "                category_orders=dict(corpus=chronological_corpus_names),\n",
    "                color_discrete_map=corpus_name_colors,\n",
    "                width=1000, height=600,\n",
    "               )\n",
    "fig.update_layout(yaxis=yaxis, **STD_LAYOUT,\n",
    "                 showlegend=False)\n",
    "fig.write_image(os.path.join(OUTPUT_DIR, \"ambitus_per_corpus_colored.png\"), scale=2)\n",
    "fig.show()"
   ]
  },
  {
   "cell_type": "raw",
   "metadata": {},
   "source": [
    "weighted_tpc = pd.concat([weight_notes(nl, 'tpc') for _, nl in grouped_notes], axis=1, keys=grouped_notes.groups.keys())\n",
    "weighted_tpc"
   ]
  },
  {
   "cell_type": "raw",
   "metadata": {},
   "source": [
    "yaxis=dict(\n",
    "    tickmode= 'array',\n",
    "    tickvals= [-12, -9, -6, -3, 0, 3, 6, 9, 12, 15, 18],\n",
    "    ticktext = [\"Dbb\", \"Bbb\", \"Gb\", \"Eb\", \"C\", \"A\", \"F#\", \"D#\", \"B#\", \"G##\", \"E##\"],\n",
    "    gridcolor='lightgrey',\n",
    "    zerolinecolor='lightgrey',\n",
    "    zeroline=True\n",
    "           )\n",
    "fig = px.violin(weighted_tpc, labels=dict(variable='', value='pitch class'), box=True, height=500)\n",
    "fig.update_layout(yaxis=yaxis, **STD_LAYOUT)\n",
    "fig.write_image(os.path.join(OUTPUT_DIR, \"tpc_per_corpus.png\"), scale=2)\n",
    "fig.show()"
   ]
  },
  {
   "cell_type": "raw",
   "metadata": {},
   "source": [
    "# adapted from https://plotly.com/python/violin/#ridgeline-plot\n",
    "fig = go.Figure()\n",
    "for corp, data_line in weighted_tpc.iteritems():\n",
    "    fig.add_trace(go.Violin(x=data_line, name=corp))\n",
    "\n",
    "fig.update_traces(side='positive', orientation='h', width=2, points=False)\n",
    "fig.update_layout(xaxis_showgrid=False, xaxis_zeroline=True, height=600)\n",
    "fig.show()"
   ]
  },
  {
   "cell_type": "code",
   "execution_count": null,
   "metadata": {},
   "outputs": [],
   "source": [
    "bar_data = all_notes.groupby('tpc').duration_qb.sum().reset_index()\n",
    "x_values = list(range(bar_data.tpc.min(), bar_data.tpc.max()+1))\n",
    "x_names = fifths2name(x_values)\n",
    "fig = px.bar(bar_data, x='tpc', y='duration_qb',\n",
    "                 labels=dict(tpc='Named pitch class',\n",
    "                             duration_qb='Duration in quarter notes'\n",
    "                            ),\n",
    "             color_discrete_sequence=corpus_color_scale,\n",
    "             width=1000, height=300,\n",
    "            )\n",
    "fig.update_layout(**STD_LAYOUT)\n",
    "fig.update_yaxes(gridcolor='lightgrey')\n",
    "fig.update_xaxes(gridcolor='lightgrey', zerolinecolor='grey', tickmode='array', \n",
    "                 tickvals=x_values, ticktext = x_names, dtick=1, ticks='outside', tickcolor='black', \n",
    "                 minor=dict(dtick=6, gridcolor='grey', showgrid=True),\n",
    "                )\n",
    "fig.write_image(os.path.join(OUTPUT_DIR, \"tpc_distribution_overall.png\"), scale=2)\n",
    "fig.show()"
   ]
  },
  {
   "cell_type": "code",
   "execution_count": null,
   "metadata": {},
   "outputs": [],
   "source": [
    "scatter_data = all_notes.groupby(['corpus_name', 'tpc']).duration_qb.sum().reset_index()\n",
    "fig = px.scatter(scatter_data, x='tpc', y='duration_qb', color='corpus_name', \n",
    "                 labels=dict(\n",
    "                     duration_qb='duration',\n",
    "                     tpc='named pitch class',\n",
    "                 ),\n",
    "                 category_orders=dict(corpus=chronological_corpus_names),\n",
    "                 color_discrete_map=corpus_name_colors,\n",
    "                 facet_col='corpus_name', facet_col_wrap=3, facet_col_spacing=0.03,\n",
    "                 width=1000, height=500,\n",
    "                )\n",
    "fig.update_traces(mode='lines+markers')\n",
    "fig.for_each_annotation(lambda a: a.update(text=a.text.split(\"=\")[-1]))\n",
    "fig.update_layout(**STD_LAYOUT, showlegend=False)\n",
    "fig.update_xaxes(gridcolor='lightgrey', zerolinecolor='lightgrey', tickmode='array', tickvals= [-12, -6, 0, 6, 12, 18],\n",
    "    ticktext = [\"Dbb\", \"Gb\", \"C\", \"F#\", \"B#\", \"E##\"], visible=True, )\n",
    "fig.update_yaxes(gridcolor='lightgrey', zeroline=False, matches=None, showticklabels=True)\n",
    "fig.write_image(os.path.join(OUTPUT_DIR, \"tpc_line_per_corpus_compact.png\"), scale=2)\n",
    "fig.show()"
   ]
  },
  {
   "cell_type": "code",
   "execution_count": null,
   "metadata": {},
   "outputs": [],
   "source": [
    "px.bar(scatter_data, x='tpc', y='duration_qb', color='corpus_name', \n",
    "                 labels=dict(\n",
    "                     duration_qb='duration',\n",
    "                     tpc='named pitch class',\n",
    "                 ),\n",
    "                 category_orders=dict(corpus=chronological_corpus_names),\n",
    "                 color_discrete_map=corpus_name_colors,\n",
    "                 width=1000, height=500,\n",
    "                )"
   ]
  },
  {
   "cell_type": "code",
   "execution_count": null,
   "metadata": {},
   "outputs": [],
   "source": [
    "no_accidental = bar_data[bar_data.tpc.between(-1,5)].duration_qb.sum()\n",
    "with_accidental = bar_data[~bar_data.tpc.between(-1,5)].duration_qb.sum()"
   ]
  },
  {
   "cell_type": "code",
   "execution_count": null,
   "metadata": {},
   "outputs": [],
   "source": [
    "entire = no_accidental + with_accidental\n",
    "f\"Fraction of note duration without accidental of the entire durations: {no_accidental} / {entire} = {no_accidental / entire}\""
   ]
  },
  {
   "cell_type": "raw",
   "metadata": {},
   "source": [
    "fig = make_subplots(rows=len(grouped_notes), cols=1, subplot_titles=list(grouped_notes.groups.keys()), shared_xaxes=True)\n",
    "for i, (corp, notes) in enumerate(grouped_notes, 1):\n",
    "    tpc_durations = notes.groupby('tpc').duration_qb.sum()\n",
    "    tpc_durations /= tpc_durations.sum()\n",
    "    fig.add_trace(go.Scatter(x=tpc_durations.index, y=tpc_durations, name=corp, mode='lines+markers'), row=i, col=1)\n",
    "\n",
    "#fig.update_traces(side='positive', orientation='h', width=2, points=False)\n",
    "fig.update_layout(**STD_LAYOUT, showlegend=False, height=800, width=300)\n",
    "fig.update_xaxes(gridcolor='lightgrey', zerolinecolor='lightgrey', tickmode='array', tickvals= [-12, -6, 0, 6, 12, 18],\n",
    "    ticktext = [\"Dbb\", \"Gb\", \"C\", \"F#\", \"B#\", \"E##\"],)\n",
    "fig.update_yaxes(showgrid=False, zeroline=False)\n",
    "fig.write_image(os.path.join(OUTPUT_DIR, \"tpc_line_per_corpus.png\"), scale=2)\n",
    "fig.show()"
   ]
  },
  {
   "cell_type": "markdown",
   "metadata": {},
   "source": [
    "### Notes and staves"
   ]
  },
  {
   "cell_type": "code",
   "execution_count": null,
   "metadata": {},
   "outputs": [],
   "source": [
    "print(\"Distribution of notes over staves:\")\n",
    "all_notes.staff.value_counts()"
   ]
  },
  {
   "cell_type": "code",
   "execution_count": null,
   "metadata": {},
   "outputs": [],
   "source": [
    "print(\"Distribution of notes over staves for all pieces with more than two staves\\n\")\n",
    "for group, df in all_notes.groupby(level=[0,1]):\n",
    "    if (df.staff > 2).any():\n",
    "        print(group)\n",
    "        print(df.staff.value_counts().to_dict())"
   ]
  },
  {
   "cell_type": "code",
   "execution_count": null,
   "metadata": {},
   "outputs": [],
   "source": [
    "all_notes[all_notes.staff > 2].groupby(level=[0,1]).staff.value_counts()"
   ]
  }
 ],
 "metadata": {
  "kernelspec": {
   "display_name": "dimcat",
   "language": "python",
   "name": "dimcat"
  },
  "language_info": {
   "codemirror_mode": {
    "name": "ipython",
    "version": 3
   },
   "file_extension": ".py",
   "mimetype": "text/x-python",
   "name": "python",
   "nbconvert_exporter": "python",
   "pygments_lexer": "ipython3",
   "version": "3.10.4"
  }
 },
 "nbformat": 4,
 "nbformat_minor": 4
}
